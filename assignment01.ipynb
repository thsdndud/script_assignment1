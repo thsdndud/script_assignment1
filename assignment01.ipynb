{
 "cells": [
  {
   "cell_type": "code",
   "execution_count": 2,
   "metadata": {},
   "outputs": [
    {
     "name": "stdout",
     "output_type": "stream",
     "text": [
      "Python Hello\n"
     ]
    }
   ],
   "source": [
    "a = \"Hello Python\"\n",
    "a = a[6:12] + a[5:6] + a[:5]\n",
    "print(a)"
   ]
  },
  {
   "cell_type": "markdown",
   "metadata": {},
   "source": [
    "1행 \"Hello Python\"을 변수 a에 넣어준다.\n",
    "\n",
    "2행 Slicing과 연결 연산자를 이용해 필요한 문자열을 a에 넣어준다. (\"Python\" + \" \" + \"Hello\")\n",
    "\n",
    "3행 문자열을 출력한다."
   ]
  },
  {
   "cell_type": "code",
   "execution_count": 3,
   "metadata": {},
   "outputs": [
    {
     "name": "stdout",
     "output_type": "stream",
     "text": [
      "World Python Hello\n"
     ]
    }
   ],
   "source": [
    "b = \"Hello Python World\"\n",
    "b = b[13:18] + b[5:6] + b[6:12] + b[5:6] + b[:5]\n",
    "print(b)"
   ]
  },
  {
   "cell_type": "markdown",
   "metadata": {},
   "source": [
    "1행 \"Hello Python World\"을 변수 b에 넣어준다.\n",
    "\n",
    "2행 Slicing과 연결 연산자를 이용해 필요한 문자열을 b에 넣어준다. (\"World\" + \" \" + \"Python\" + \" \" + \"Hello\")\n",
    "\n",
    "3행 문자열을 출력한다."
   ]
  },
  {
   "cell_type": "code",
   "execution_count": 5,
   "metadata": {},
   "outputs": [
    {
     "name": "stdout",
     "output_type": "stream",
     "text": [
      "olleH\n"
     ]
    }
   ],
   "source": [
    "c = \"Hello\"\n",
    "c = c[::-1]\n",
    "print(c)"
   ]
  },
  {
   "cell_type": "markdown",
   "metadata": {},
   "source": [
    "1행 \"Hello\"를 변수 c에 넣어준다.\n",
    "\n",
    "2행 Slicing을 이용해 Hello를 역순으로 만든 뒤 c에 다시 넣어준다.\n",
    "\n",
    "3행 문자열을 출력한다."
   ]
  },
  {
   "cell_type": "code",
   "execution_count": 6,
   "metadata": {},
   "outputs": [
    {
     "name": "stdout",
     "output_type": "stream",
     "text": [
      "p\n",
      "p\n",
      "p\n",
      "ytho\n",
      "\n"
     ]
    }
   ],
   "source": [
    "s=\"python\"\n",
    "print(s[0])\n",
    "print(s[0][0])\n",
    "print(s[0][0][0])\n",
    "#print(s[-100]) 에러발생\n",
    "#print(s[100])  에러발생\n",
    "#print(s[-100, 100])  에러발생\n",
    "print(s[1:-1])\n",
    "print(s[3:-3])"
   ]
  },
  {
   "cell_type": "markdown",
   "metadata": {},
   "source": [
    "**s[0], s[0][0], s[0][0][0]은 각각 어떤 값이 나오는지 확인하고 그 이유를 나름대로 설명해 보시오.**\n",
    "\n",
    "셋 다 \"p\" 가 출력된다. 아마 s[0]는 문자열, s[0][0]은 이중배열 속의 문자열, s[0][0][0]은 삼중배열 속의 문자열로 인식해서 결국 셋 다 문자열의 첫번째 요소가 출력된 것 같다.\n",
    "\n",
    "**s[-100], s[100]은 값이 나오는지 에러가 나오는지 확인하고 그 결과에 대한 이유를 나름대로 설명해 보시오.**\n",
    "\n",
    "에러가 발생한다. 문자열 s의 범위는 s[-6] ~ s[5] 까지인데, 그 범위를 넘는 요소를 출력하라고 해서 에러가 난 것 같다. 실제로 에러문에서도 범위를 초과했다고 나온다.\n",
    "\n",
    "**s[-100, 100]은 값이 나오는지 에러가 나오는지 확인하고 그 결과에 대한 이유를 나름대로 설명해 보시오.**\n",
    "\n",
    "에러가 발생한다. 위와 같이 범위를 초과해서 발생하는 에러 같다.\n",
    "\n",
    "**s[1:-1]의 결과를 확인하고 그 결과에 대한 이유를 정확하게 설명하시오.**\n",
    "\n",
    "s[1:-1]은 문자열 s의 두번째 요소부터 뒤에서 첫번째 문자 전까지 출력하라는 뜻이고 그 결과가 맞게 나왔다.\n",
    "\n",
    "**s[3:-3]의 결과를 확인하고 그 결과에 대한 이유를 정확하게 설명하시오.**\n",
    "\n",
    "s[3:-3]은 문자열 s의 네번째 요소부터 뒤에서 세번째 문자 전까지 출력하라는 뜻이고 이는 곧 네번째 요소부터 네번째 요소 전까지 출력하라는 뜻이니 시작하자마자 끝이 나게 된다. 그래서 결과 또한 공백이다."
   ]
  },
  {
   "cell_type": "code",
   "execution_count": 10,
   "metadata": {},
   "outputs": [
    {
     "name": "stdout",
     "output_type": "stream",
     "text": [
      "1 3 5 7 9 11 13 15 17 19 21 23 25 27 29 31 33 35 37 39 41 43 45 47 49 51 53 55 57 59 61 63 65 67 69 71 73 75 77 79 81 83 85 87 89 91 93 95 97 99 "
     ]
    }
   ],
   "source": [
    "bak = range(1,101)\n",
    "for num in bak:\n",
    "    if (num%2) == 1:\n",
    "        print(num,end=\" \")"
   ]
  },
  {
   "cell_type": "markdown",
   "metadata": {},
   "source": [
    "1행 bak은 1~100의 범위를 나타낸다.\n",
    "\n",
    "2행~4행 for문에서 1~100 사이의 수 중에 2로 나누었을 때 나머지가 남는 수(홀수)를 출력한다."
   ]
  },
  {
   "cell_type": "code",
   "execution_count": 11,
   "metadata": {},
   "outputs": [
    {
     "name": "stdout",
     "output_type": "stream",
     "text": [
      "2550\n"
     ]
    }
   ],
   "source": [
    "count = 1\n",
    "sum = 0\n",
    "while count <= 100:\n",
    "    if (count%2) == 0:\n",
    "      sum +=count\n",
    "    count += 1\n",
    "print(sum)"
   ]
  },
  {
   "cell_type": "markdown",
   "metadata": {},
   "source": [
    "3~6행 1~100까지 반복하는 while문에서 2로 나눴을 때 나머지가 없는 수(짝수)를 sum에 더해준다.\n",
    "\n",
    "7행 sum을 출력한다."
   ]
  },
  {
   "cell_type": "code",
   "execution_count": 12,
   "metadata": {},
   "outputs": [
    {
     "name": "stdout",
     "output_type": "stream",
     "text": [
      "정수를 입력하세요: 5123\n",
      "숫자 역순은 3215 입니다\n"
     ]
    }
   ],
   "source": [
    "num = input(\"정수를 입력하세요: \")\n",
    "num = num[::-1]\n",
    "print(\"숫자 역순은 \"+ num + \" 입니다\" )"
   ]
  },
  {
   "cell_type": "markdown",
   "metadata": {},
   "source": [
    "1행 input()을 이용하여 임의의 정수를 num에 입력받는다.\n",
    "\n",
    "2행 Slicing을 이용해 입력받은 정수를 역순으로 바꾼 뒤 num에 넣어준다.\n",
    "\n",
    "3행 바꾼 정수를 출력한다."
   ]
  },
  {
   "cell_type": "code",
   "execution_count": 13,
   "metadata": {},
   "outputs": [
    {
     "name": "stdout",
     "output_type": "stream",
     "text": [
      "정수를 입력하세요: 5\n",
      "2 3 "
     ]
    }
   ],
   "source": [
    "num2 = int(input(\"정수를 입력하세요: \"))\n",
    "for PrimeN in range(2, num2):\n",
    "    isPrime = True\n",
    "    for i in range(2, PrimeN):\n",
    "        if PrimeN % i == 0:\n",
    "            isPrime = False\n",
    "            break\n",
    "    if isPrime == True:\n",
    "        print(PrimeN, end=\" \")"
   ]
  },
  {
   "cell_type": "markdown",
   "metadata": {},
   "source": [
    "1행 input()을 이용하여 임의의 정수를 num2에 입력받는다.\n",
    "\n",
    "2행 2부터 num2 사이의 수 중에 소수를 찾는 for문\n",
    "\n",
    "3행 for문이 반복될때마다 isPrime을 True로 초기화\n",
    "\n",
    "4~7행 작은 for문에서 PrimeN으로 PrimeN보다 작은 수를 나눴을 때 나눠떨어지면 isPrime을 False로 바꾸고 break한다.\n",
    "\n",
    "8~9행 만약 isPrime이 True이면 PrimeN는 소수이므로 출력한다."
   ]
  },
  {
   "cell_type": "code",
   "execution_count": 14,
   "metadata": {},
   "outputs": [
    {
     "name": "stdout",
     "output_type": "stream",
     "text": [
      "5\n",
      "*****\n",
      " ****\n",
      "  ***\n",
      "   **\n",
      "    *\n"
     ]
    }
   ],
   "source": [
    "line = int(input())\n",
    "for i in range(0,line):\n",
    "    for j in range (0,i):\n",
    "        print(\" \",end=\"\")\n",
    "        j+=1\n",
    "    for k in range (i,line):\n",
    "        print(\"*\",end=\"\")\n",
    "        k+=1\n",
    "    print(\"\")"
   ]
  },
  {
   "attachments": {
    "1.PNG": {
     "image/png": "[encoded data removed]"
    }
   },
   "cell_type": "markdown",
   "metadata": {},
   "source": [
    "![1.PNG](attachment:1.PNG)"
   ]
  },
  {
   "cell_type": "markdown",
   "metadata": {},
   "source": [
    "1행 input()을 이용하여 임의의 정수를 line에 입력받는다.\n",
    "\n",
    "2행 line 수 만큼 반복되는 for문\n",
    "\n",
    "3~5행 현재의 행 -1 만큼 공백을 출력한다.\n",
    "\n",
    "6~8행 line - i 만큼 \" * \" 을 출력한다."
   ]
  },
  {
   "cell_type": "code",
   "execution_count": 8,
   "metadata": {},
   "outputs": [
    {
     "name": "stdout",
     "output_type": "stream",
     "text": [
      "adsfdaadfafdsfadsfa\n",
      "adsfdaadfa\n",
      "fdsfadsfa\n"
     ]
    }
   ],
   "source": [
    "sentence = input()\n",
    "repeat = int(len(sentence) / 10)\n",
    "lastwords = len(sentence) % 10\n",
    "x = 0\n",
    "for ten in range(0,repeat):\n",
    "    print(sentence[(0 + x):(10 + x)])\n",
    "    x += 10\n",
    "print(sentence[x:x+lastwords])"
   ]
  },
  {
   "attachments": {
    "2%EB%B2%88%EC%BA%A1%EC%B2%98.PNG": {
     "image/png": "[encoded data removed]"
    }
   },
   "cell_type": "markdown",
   "metadata": {},
   "source": [
    "![2%EB%B2%88%EC%BA%A1%EC%B2%98.PNG](attachment:2%EB%B2%88%EC%BA%A1%EC%B2%98.PNG)"
   ]
  },
  {
   "cell_type": "markdown",
   "metadata": {},
   "source": [
    "1행 input()을 이용하여 임의의 문자열을 sentence에 입력받는다.\n",
    "\n",
    "2행 repeat에 sentence를 10으로 나눈 몫을 넣는다.\n",
    "\n",
    "3행 lastwords에 sentence를 10으로 나눈 나머지을 넣는다.\n",
    "\n",
    "4행 어디까지 출력했는지를 나타낼 x\n",
    "\n",
    "5~7행 0~9번째 요소, 10~19번째 요소, 20~29번째 요소....를 출력한다. repeat만큼만 반복한다.\n",
    "\n",
    "8행 나머지 요소를 출력한다."
   ]
  },
  {
   "cell_type": "code",
   "execution_count": 9,
   "metadata": {},
   "outputs": [
    {
     "name": "stdout",
     "output_type": "stream",
     "text": [
      "13\n",
      "3\n"
     ]
    }
   ],
   "source": [
    "sugar = int(input())\n",
    "\n",
    "leftover = sugar % 5\n",
    "if leftover == 0:\n",
    "    bag = int(sugar/5)\n",
    "elif leftover == 1:\n",
    "    bag = int(sugar/5 + 1)\n",
    "elif leftover == 2:\n",
    "    bag = int(sugar/5 + 2)\n",
    "elif leftover == 3:\n",
    "    bag = int(sugar/5 + 1)\n",
    "else:\n",
    "    bag = int(sugar/5 + 2)\n",
    "if (sugar < 3 or sugar==4 or sugar==7):\n",
    "    bag = -1\n",
    "print(bag)"
   ]
  },
  {
   "attachments": {
    "3%EB%B2%88%EC%BA%A1%EC%B2%98.PNG": {
     "image/png": "[encoded data removed]"
    }
   },
   "cell_type": "markdown",
   "metadata": {},
   "source": [
    "![3%EB%B2%88%EC%BA%A1%EC%B2%98.PNG](attachment:3%EB%B2%88%EC%BA%A1%EC%B2%98.PNG)"
   ]
  },
  {
   "cell_type": "markdown",
   "metadata": {},
   "source": [
    "1행 input()을 이용하여 임의의 정수를 sugar에 입력받는다.\n",
    "\n",
    "3~13행 어떤 수를 5로 나눴을 때 나머지의 경우의 수는 모두 5가지이다. 그래서 각각의 경우의 수마다 3kg짜리 가방이 얼마나 필요한지 구해보았더니 일정한 규칙이 있었다. 그 규칙대로 최소한의 3kg, 5kg짜리 가방으로 설탕을 나눠받게 하였다.\n",
    "\n",
    "14~15행 설탕이 3이하이거나, 4 또는 7일때는 남는 설탕이 생기므로 나눠담을 수 없다는 뜻의 -1을 bag에 넣어준다.\n",
    "\n",
    "16행 bag를 출력한다."
   ]
  },
  {
   "cell_type": "markdown",
   "metadata": {},
   "source": [
    "-----------------------------------------------\n",
    "과제 후 느낀점\n",
    "\n",
    "새로운 환경에서 코딩을 하고 문제를 채점받고 과제를 올리는 방식이 처음이라 매우 낯설었다. 특히 스크립트 프로그래밍은 다른 C언어나 자바와 다르게 세미클론을 사용하지 않는 점이나 :을 자주 사용하는 것이 처음엔 낯설어서 실수를 많이 했는데, 쓰다보니 더 깔끔한 것 같고 간편해서 좋았다.\n",
    "그러나 실행 중 무한루프가 돌면서 (ln [*]) 자주 하던작업이 멈추는 것은 상당히 불편했다. 이후에 작성된 정상적인 코드도 렉이 걸려서인지 잘 작동되지 않을 때도 있었다. 이런 문제들 또한 아직 낯설어서 그런 것 같다. 빨리 이 프로그래밍 방식에 친숙해졌으면 좋겠다."
   ]
  }
 ],
 "metadata": {
  "kernelspec": {
   "display_name": "Python 3",
   "language": "python",
   "name": "python3"
  },
  "language_info": {
   "codemirror_mode": {
    "name": "ipython",
    "version": 3
   },
   "file_extension": ".py",
   "mimetype": "text/x-python",
   "name": "python",
   "nbconvert_exporter": "python",
   "pygments_lexer": "ipython3",
   "version": "3.6.5"
  }
 },
 "nbformat": 4,
 "nbformat_minor": 2
}
